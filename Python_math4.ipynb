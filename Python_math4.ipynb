{
 "cells": [
  {
   "cell_type": "code",
   "execution_count": 1,
   "metadata": {},
   "outputs": [
    {
     "name": "stdout",
     "output_type": "stream",
     "text": [
      "加算の結果\n",
      "[[ 3  5  8]\n",
      " [16  1  8]]\n",
      "減算の結果\n",
      "[[ 1 -5  2]\n",
      " [-4  1 -4]]\n"
     ]
    }
   ],
   "source": [
    "import numpy as npy\n",
    "\n",
    "# 行列の定義\n",
    "A = npy.array([[2,0,5],[6,1,2]])\n",
    "B = npy.array([[1,5,3],[10,0,6]])\n",
    "\n",
    "add = A+B\n",
    "sub = A-B\n",
    "print(\"加算の結果\")\n",
    "print(add)\n",
    "print(\"減算の結果\")\n",
    "print(sub)\n"
   ]
  },
  {
   "cell_type": "code",
   "execution_count": 2,
   "metadata": {},
   "outputs": [
    {
     "name": "stdout",
     "output_type": "stream",
     "text": [
      "２倍\n",
      "[[ 4  0 10]\n",
      " [12  2  4]]\n",
      "－３倍\n",
      "[[ -6   0 -15]\n",
      " [-18  -3  -6]]\n",
      "０．１倍\n",
      "[[0.2 0.  0.5]\n",
      " [0.6 0.1 0.2]]\n"
     ]
    }
   ],
   "source": [
    "import numpy as npy\n",
    "\n",
    "# 行列の定義\n",
    "A = npy.array([[2,0,5],[6,1,2]])\n",
    "\n",
    "result1 = 2*A\n",
    "result2 = -3*A\n",
    "result3 = 0.1*A\n",
    "\n",
    "print(\"２倍\")\n",
    "print(result1)\n",
    "print(\"－３倍\")\n",
    "print(result2)\n",
    "print(\"０．１倍\")\n",
    "print(result3)"
   ]
  },
  {
   "cell_type": "code",
   "execution_count": 3,
   "metadata": {},
   "outputs": [
    {
     "name": "stdout",
     "output_type": "stream",
     "text": [
      "A×Bの解\n",
      "[[1]]\n",
      "B×Aの解\n",
      "[[ 6  0 15]\n",
      " [ 4  0 10]\n",
      " [-2  0 -5]]\n"
     ]
    }
   ],
   "source": [
    "import numpy as npy\n",
    "\n",
    "# ベクトルの定義\n",
    "A = npy.array([[2,0,5]])\n",
    "B = npy.array([[3],[2],[-1]])\n",
    "\n",
    "result1 = A.dot(B)\n",
    "result2 = B.dot(A)\n",
    "\n",
    "print(\"A×Bの解\")\n",
    "print(result1)\n",
    "print(\"B×Aの解\")\n",
    "print(result2)\n"
   ]
  },
  {
   "cell_type": "code",
   "execution_count": 4,
   "metadata": {},
   "outputs": [
    {
     "name": "stdout",
     "output_type": "stream",
     "text": [
      "A×Bの解\n",
      "[[ 1 15]\n",
      " [ 7 27]]\n",
      "B×Aの解\n",
      "[[ 26 -10  20]\n",
      " [ -8   6   7]\n",
      " [  2  -2  -4]]\n"
     ]
    }
   ],
   "source": [
    "import numpy as npy\n",
    "# 行列の定義\n",
    "A = npy.array([[2,0,5],[4,-2,1]])\n",
    "B = npy.array([[3,5],[2,-3],[-1,1]])\n",
    "\n",
    "result1 = A.dot(B)\n",
    "result2 = B.dot(A)\n",
    "\n",
    "print(\"A×Bの解\")\n",
    "print(result1)\n",
    "print(\"B×Aの解\")\n",
    "print(result2)\n"
   ]
  },
  {
   "cell_type": "code",
   "execution_count": 6,
   "metadata": {},
   "outputs": [
    {
     "name": "stdout",
     "output_type": "stream",
     "text": [
      "A×Bの解\n",
      "[[ 6 10]\n",
      " [ 8 26]]\n",
      "B×Aの解\n",
      "[[ 26 -10]\n",
      " [ -8   6]]\n"
     ]
    }
   ],
   "source": [
    "import numpy as npy\n",
    "# 正方行列の乗算\n",
    "# 行列の定義\n",
    "A = npy.array([[2,0],[4,-2]])\n",
    "B = npy.array([[3,5],[2,-3]])\n",
    "\n",
    "result1 = A.dot(B)\n",
    "result2 = B.dot(A)\n",
    "\n",
    "print(\"A×Bの解\")\n",
    "print(result1)\n",
    "print(\"B×Aの解\")\n",
    "print(result2)\n"
   ]
  },
  {
   "cell_type": "code",
   "execution_count": 7,
   "metadata": {},
   "outputs": [
    {
     "name": "stdout",
     "output_type": "stream",
     "text": [
      "A×Bの解\n",
      "[[ 2  0]\n",
      " [ 4 -2]]\n",
      "B×Aの解\n",
      "[[ 2  0]\n",
      " [ 4 -2]]\n"
     ]
    }
   ],
   "source": [
    "import numpy as npy\n",
    "# 単位行列の乗算\n",
    "# 行列の定義\n",
    "A = npy.array([[2,0],[4,-2]])\n",
    "B = npy.array([[1,0],[0,1]])\n",
    "\n",
    "result1 = A.dot(B)\n",
    "result2 = B.dot(A)\n",
    "\n",
    "print(\"A×Bの解\")\n",
    "print(result1)\n",
    "print(\"B×Aの解\")\n",
    "print(result2)\n"
   ]
  },
  {
   "cell_type": "code",
   "execution_count": 13,
   "metadata": {},
   "outputs": [
    {
     "name": "stdout",
     "output_type": "stream",
     "text": [
      "Aの逆行列\n",
      "[[-2.   1. ]\n",
      " [ 1.5 -0.5]]\n",
      "Bの逆行列\n",
      "[[ 0.11363636  0.01704545  0.0625    ]\n",
      " [ 0.15909091  0.07386364 -0.0625    ]\n",
      " [-0.17045455  0.09943182  0.03125   ]]\n",
      "Cの逆行列\n"
     ]
    }
   ],
   "source": [
    "import numpy as npy\n",
    "# 逆行列の算出\n",
    "# 行列の定義\n",
    "A = npy.array([[1,2],[3,4]])\n",
    "B = npy.array([[3,2,-2],[2,5,6],[10,-5,2]])\n",
    "C = npy.array([[1,2],[2,4]])\n",
    "\n",
    "result1 = npy.linalg.inv(A)\n",
    "result2 = npy.linalg.inv(B)\n",
    "#result3 = npy.linalg.inv(C)\n",
    "\n",
    "print(\"Aの逆行列\")\n",
    "print(result1)\n",
    "print(\"Bの逆行列\")\n",
    "print(result2)\n",
    "print(\"Cの逆行列\")\n",
    "#print(result3)"
   ]
  },
  {
   "cell_type": "code",
   "execution_count": 1,
   "metadata": {},
   "outputs": [
    {
     "name": "stdout",
     "output_type": "stream",
     "text": [
      "行列A\n",
      "[[ 2  4  1]\n",
      " [-6  2 11]]\n",
      "行列Aの転置\n",
      "[[ 2 -6]\n",
      " [ 4  2]\n",
      " [ 1 11]]\n"
     ]
    }
   ],
   "source": [
    "import numpy as npy\n",
    "# 転置操作\n",
    "# 行列の定義\n",
    "A = npy.array([[2,4,1],[-6,2,11]])\n",
    "\n",
    "AT = A.T\n",
    "\n",
    "print(\"行列A\")\n",
    "print(A)\n",
    "print(\"行列Aの転置\")\n",
    "print(AT)\n"
   ]
  },
  {
   "cell_type": "code",
   "execution_count": 2,
   "metadata": {},
   "outputs": [
    {
     "name": "stdout",
     "output_type": "stream",
     "text": [
      "逆行列\n",
      "[[ 0.28571429  0.14285714]\n",
      " [-0.42857143  0.28571429]]\n",
      "連立方程式の解\n",
      "[[ 3.]\n",
      " [-4.]]\n"
     ]
    }
   ],
   "source": [
    "import numpy as npy\n",
    "# 連立方程式を解く\n",
    "# 行列の定義\n",
    "left = npy.array([[2,-1],[3,2]])\n",
    "right = npy.array([[10],[1]])\n",
    "# 逆行列を求める\n",
    "left_rev = npy.linalg.inv(left)\n",
    "# 逆行列を乗算する\n",
    "result = left_rev.dot(right)\n",
    "\n",
    "print(\"逆行列\")\n",
    "print(left_rev)\n",
    "print(\"連立方程式の解\")\n",
    "print(result)"
   ]
  },
  {
   "cell_type": "code",
   "execution_count": 3,
   "metadata": {},
   "outputs": [
    {
     "name": "stdout",
     "output_type": "stream",
     "text": [
      "逆行列\n",
      "[[ 0.25       -0.07352941  0.01470588]\n",
      " [-0.25        0.19117647  0.16176471]\n",
      " [-0.5        -0.02941176  0.20588235]]\n",
      "連立方程式の解\n",
      "[[ 2.]\n",
      " [-1.]\n",
      " [-5.]]\n"
     ]
    }
   ],
   "source": [
    "import numpy as npy\n",
    "# 連立方程式を解く\n",
    "# 行列の定義\n",
    "left = npy.array([[3,1,-1],[-2,4,-3],[7,3,2]])\n",
    "right = npy.array([[10],[7],[1]])\n",
    "# 逆行列を求める\n",
    "left_rev = npy.linalg.inv(left)\n",
    "# 逆行列を乗算する\n",
    "result = left_rev.dot(right)\n",
    "\n",
    "print(\"逆行列\")\n",
    "print(left_rev)\n",
    "print(\"連立方程式の解\")\n",
    "print(result)"
   ]
  },
  {
   "cell_type": "code",
   "execution_count": 27,
   "metadata": {},
   "outputs": [
    {
     "data": {
      "image/png": "[encoded data removed]",
      "text/plain": [
       "<Figure size 360x360 with 1 Axes>"
      ]
     },
     "metadata": {
      "needs_background": "light"
     },
     "output_type": "display_data"
    }
   ],
   "source": [
    "# ライブラリのインポート\n",
    "import numpy as npy\n",
    "import matplotlib.pyplot as plt\n",
    "# Jupiter Notebookで結果を表示するためのおまじない\n",
    "%matplotlib inline\n",
    "# 行列を乗算する関数の定義\n",
    "def f(x):\n",
    "    A = npy.array([[3,1],[-2,4]])\n",
    "    return A.dot(x)\n",
    "\n",
    "#ベクトルの定義\n",
    "vector = npy.array([[1],[0]])\n",
    "vector2 = f(vector)\n",
    "\n",
    "\n",
    "# FigureとAxesを描画\n",
    "fig, ax = plt.subplots(figsize = (5, 5))\n",
    "ax.grid()\n",
    "ax.set_xlim(-5, 5)\n",
    "ax.set_ylim(-5, 5)\n",
    "\n",
    "plt.scatter(vector[0],vector[1])\n",
    "plt.scatter(vector2[0],vector2[1])\n",
    "# 指定した位置に注釈と矢印を入れる\n",
    "ax.annotate(\"\", xy = (vector2[0], vector2[1]), size = 15, xytext = (vector[0], vector[1]),\n",
    "            color = \"red\", arrowprops = dict())\n",
    "# グラフを描写する\n",
    "plt.show()"
   ]
  },
  {
   "cell_type": "code",
   "execution_count": 37,
   "metadata": {},
   "outputs": [
    {
     "data": {
      "image/png": "[encoded data removed]",
      "text/plain": [
       "<Figure size 360x360 with 1 Axes>"
      ]
     },
     "metadata": {
      "needs_background": "light"
     },
     "output_type": "display_data"
    }
   ],
   "source": [
    "# ライブラリのインポート\n",
    "import numpy as npy\n",
    "import matplotlib.pyplot as plt\n",
    "# Jupiter Notebookで結果を表示するためのおまじない\n",
    "%matplotlib inline\n",
    "# 行列を乗算する関数の定義\n",
    "def f(x):\n",
    "    A = npy.array([[3,1],[-2,4]])\n",
    "    return A.dot(x)\n",
    "xlist = npy.arange(3)\n",
    "ylist = npy.arange(3)\n",
    "\n",
    "xlist = [-2,-1,0,1,2]\n",
    "ylist = [-2,-1,0,1,2]\n",
    "\n",
    "# FigureとAxesを描画\n",
    "fig, ax = plt.subplots(figsize = (5, 5))\n",
    "ax.grid()\n",
    "ax.set_xlim(-15, 15)\n",
    "ax.set_ylim(-15, 15)\n",
    "\n",
    "for xi in xlist :\n",
    "    for yi in ylist:\n",
    "        #ベクトルの定義\n",
    "        vector = npy.array([[xi],[yi]])\n",
    "        vector2 = f(vector)\n",
    "\n",
    "        plt.scatter(vector[0],vector[1])\n",
    "        plt.scatter(vector2[0],vector2[1])\n",
    "        # 指定した位置に注釈と矢印を入れる\n",
    "        ax.annotate(\"\", xy = (vector2[0], vector2[1]), size = 5, xytext = (vector[0], vector[1]),\n",
    "                    color = \"red\", arrowprops = dict())\n",
    "# グラフを描写する\n",
    "plt.show()"
   ]
  },
  {
   "cell_type": "code",
   "execution_count": 47,
   "metadata": {},
   "outputs": [
    {
     "name": "stdout",
     "output_type": "stream",
     "text": [
      "(4.0, -5.0)\n"
     ]
    }
   ],
   "source": [
    "\n",
    "def solv(a, b, c):\n",
    "    \"\"\" 2次方程式を解く  \"\"\"\n",
    "    D = (b**2 - 4*a*c) ** (1/2)\n",
    "    x_1 = (-b + D) / (2 * a)\n",
    "    x_2 = (-b - D) / (2 * a)\n",
    "\n",
    "    return x_1, x_2\n",
    "\n",
    "def f(x):\n",
    "    return x**2+x-20\n",
    "\n",
    "result1 = solv(1,1,-20)\n",
    "print(result1)\n"
   ]
  }
 ],
 "metadata": {
  "kernelspec": {
   "display_name": "Python 3",
   "language": "python",
   "name": "python3"
  },
  "language_info": {
   "codemirror_mode": {
    "name": "ipython",
    "version": 3
   },
   "file_extension": ".py",
   "mimetype": "text/x-python",
   "name": "python",
   "nbconvert_exporter": "python",
   "pygments_lexer": "ipython3",
   "version": "3.7.4"
  }
 },
 "nbformat": 4,
 "nbformat_minor": 2
}
