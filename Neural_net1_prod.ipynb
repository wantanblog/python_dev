{
 "cells": [
  {
   "cell_type": "code",
   "execution_count": 1,
   "metadata": {},
   "outputs": [],
   "source": [
    "# データ準備\n",
    "import numpy as npy\n",
    "import matplotlib.pyplot as plt\n",
    "%matplotlib inline\n",
    "# アヤメ品種データの読み込み\n",
    "from sklearn.datasets import load_iris\n",
    "\n",
    "iris_data = load_iris()\n",
    "\n",
    "# 説明変数\n",
    "X_array = iris_data.data\n",
    "# カラムデータを取得\n",
    "X0=X_array[:,0]\n",
    "X1=X_array[:,3]\n",
    "\n",
    "# 目的変数\n",
    "t_array = iris_data.target\n",
    "T=t_array\n",
    "\n",
    "N=len(X0)\n",
    "petal_data=npy.zeros((N,2))\n",
    "T3 = npy.zeros((N,3), dtype=npy.uint8)\n",
    "\n",
    "#データの設定\n",
    "for i in range(N):\n",
    "    petal_data[i]=[X0[i], X1[i]]\n",
    "    \n",
    "    # 0[1,0,0]　1[0,1,0]　2[0,0,1]\n",
    "    if T[i] == 0:\n",
    "        T3[i]=[1,0,0]\n",
    "    elif T[i] == 1:\n",
    "        T3[i]=[0,1,0]\n",
    "    else:\n",
    "        T3[i]=[0,0,1]\n",
    "\n",
    "\n",
    "X_range0=[min(X0)*0.9,max(X0)*1.1]\n",
    "X_range1=[min(X1)*0.9,max(X1)*1.1]\n",
    "\n",
    "# データをclassdata3.npzファイルに保存する\n",
    "npy.savez('neural_rawdata.npz',X=petal_data,T3=T3,X_range0=X_range0,X_range1=X_range1,X_n=N)\n"
   ]
  },
  {
   "cell_type": "code",
   "execution_count": 2,
   "metadata": {},
   "outputs": [],
   "source": [
    "# 生データファイルから取り出す\n",
    "sample_data = npy.load('neural_rawdata.npz')\n",
    "# 入力値の設定\n",
    "X=sample_data['X']\n",
    "# がく片の長さの表示範囲設定\n",
    "X_range0=sample_data['X_range0']\n",
    "# がく片の幅の表示範囲設定\n",
    "X_range1=sample_data['X_range1']\n",
    "# クラス（答え）の設定\n",
    "T3=sample_data['T3']\n",
    "\n",
    "# データの並び替え\n",
    "X1 = X[:50,:]\n",
    "X2 = X[50:100,:]\n",
    "X3 = X[100:150,:]\n",
    "\n",
    "npy.random.shuffle(X1)\n",
    "npy.random.shuffle(X2)\n",
    "npy.random.shuffle(X3)\n",
    "\n",
    "X_test=npy.r_[X1[:25,:], X2[:25,:], X3[:25,:]]\n",
    "X_train=npy.r_[X1[25:50,:],X2[25:50,:],X3[25:50,:]]\n",
    "T_test=npy.r_[T3[:25,:], T3[50:75,:], T3[100:125,:]]\n",
    "T_train=npy.r_[T3[25:50,:],T3[75:100,:],T3[125:150,:]]\n",
    "\n",
    "npy.savez('neural_data.npz',X_train=X_train, T_train=T_train,X_test=X_test,T_test=T_test,X_range0=X_range0,X_range1=X_range1)\n"
   ]
  },
  {
   "cell_type": "code",
   "execution_count": 3,
   "metadata": {},
   "outputs": [
    {
     "data": {
      "image/png": "[encoded data removed]",
      "text/plain": [
       "<Figure size 576x266.4 with 2 Axes>"
      ]
     },
     "metadata": {
      "needs_background": "light"
     },
     "output_type": "display_data"
    }
   ],
   "source": [
    "import matplotlib.pyplot as plt\n",
    "%matplotlib inline\n",
    "\n",
    "# データの表示\n",
    "def Show_data(x,t):\n",
    "    wk,n=t.shape\n",
    "    c=[[0,0,0],[.5,.5,.5],[1,1,1]]\n",
    "    for i in range(n):\n",
    "        plt.plot(x[t[:,i]==1,0],x[t[:,i]==1,1],linestyle='none',marker='o',markeredgecolor='black',color=c[i],alpha=0.8)\n",
    "    plt.grid(True)\n",
    "\n",
    "plt.figure(1,figsize=(8,3.7))\n",
    "plt.subplot(1,2,1)\n",
    "Show_data(X_train,T_train)\n",
    "plt.xlim(X_range0)\n",
    "plt.ylim(X_range1)\n",
    "plt.title('Training Data')\n",
    "plt.subplot(1,2,2)\n",
    "Show_data(X_test,T_test)\n",
    "plt.xlim(X_range0)\n",
    "plt.ylim(X_range1)\n",
    "plt.title('Test Data')\n",
    "\n",
    "plt.show()\n"
   ]
  },
  {
   "cell_type": "code",
   "execution_count": 12,
   "metadata": {
    "scrolled": true
   },
   "outputs": [
    {
     "data": {
      "text/plain": [
       "(array([[0.33333333, 0.33333333, 0.33333333],\n",
       "        [0.33333333, 0.33333333, 0.33333333]]),\n",
       " array([[2.9955243 , 2.9955243 , 2.9955243 ],\n",
       "        [2.99396317, 2.99396317, 2.99396317]]),\n",
       " array([[0.99776215, 0.99776215, 1.        ],\n",
       "        [0.99698158, 0.99698158, 1.        ]]),\n",
       " array([[6.1, 6.1, 0. ],\n",
       "        [5.8, 5.8, 0. ]]))"
      ]
     },
     "execution_count": 12,
     "metadata": {},
     "output_type": "execute_result"
    }
   ],
   "source": [
    "# シグモイド関数\n",
    "def Sigmoid(x):\n",
    "    y=1/(1+npy.exp(-x))\n",
    "    return y\n",
    "\n",
    "# ニューラルネットワーク（wv重み、M中間層ノード数、K出力層ノード数、x入力層の入力値）\n",
    "def FNN(wv, M, K, x):\n",
    "    # Nデータ数　Dデータの入力次元\n",
    "    N, D = x.shape\n",
    "    # w 入力層⇒中間層の重み\n",
    "    w = wv[:M * (D+1)]\n",
    "    w = w.reshape(M,(D+1))\n",
    "    # v 中間層⇒出力層の重み\n",
    "    v = wv[M*(D+1):]\n",
    "    v = v.reshape((K,M+1))\n",
    "    # b 中間層の入力総和\n",
    "    b = npy.zeros((N,M+1))\n",
    "    # z 中間層の出力値\n",
    "    z = npy.zeros((N,M+1))\n",
    "    # a 出力層の入力総和\n",
    "    a = npy.zeros((N,K))\n",
    "    # y 出力層の出力値\n",
    "    y = npy.zeros((N,K))\n",
    "    \n",
    "    # データごとに中間層、出力層の計算を行う\n",
    "    for n in range(N):\n",
    "        # 中間層の計算（シグモイド関数）\n",
    "        for m in range(M):\n",
    "            b[n,m] = npy.dot(w[m,:],npy.r_[x[n,:],1])\n",
    "            z[n,m] = Sigmoid(b[n,m])\n",
    "        # ダミーニューロン\n",
    "        z[n,M]=1\n",
    "        u=0\n",
    "        # 出力層の計算（）\n",
    "        for k in range(K):\n",
    "            a[n,k] = npy.dot(v[k,:],z[n,:])\n",
    "            u = u + npy.exp(a[n,k])\n",
    "        for k in range(K):\n",
    "            y[n,k] = npy.exp(a[n,k])/u\n",
    "    return y,a,z,b\n",
    "\n",
    "# テスト実行\n",
    "WV = npy.ones(15)\n",
    "M = 2\n",
    "K = 3\n",
    "FNN(WV,M,K,X_train[:2,:])\n"
   ]
  },
  {
   "cell_type": "code",
   "execution_count": null,
   "metadata": {},
   "outputs": [],
   "source": [
    "# 平均誤差エントロピー誤差\n",
    "def CE_FNN(wv,M,K,x,t):\n",
    "    N,D = x.shape\n",
    "    y,a,z,b=FNN(wv,M,K,x)\n",
    "    ce = -npy.dot(t.reshape(-1),npy.log(y.reshape(-1))) / N\n",
    "    return ce\n",
    "\n",
    "# 微分式\n",
    "def dCE_FNN_num(wv,M,K,x,t):\n",
    "    epsilon = 0.001\n",
    "    dwv = npy.zeros_like(wv)\n",
    "    for iwv in range(len(wv)):\n",
    "        wv_modified = wv.copy()\n",
    "        wv_modified[iwv] = wv[iwv]-epsilon\n",
    "        mse1 = CE_FNN(wv_modified,M,K,x,t)\n",
    "        wv_modified[iwv] = wv[iwv]+epsilon\n",
    "        mse2 = CE_FNN(wv_modified,M,K,x,t)\n",
    "        dwv[iwv] = (mse2 - mse1)/(2*epsilon)\n",
    "    return dwv\n",
    "\n",
    "def Fit_FNN_num(wv_init,M,K,x_train,t_train,x_test,t_test,n,alpha):\n",
    "    wv = wv_init\n",
    "    err_train =npy.zeros(n)\n",
    "    err_test = npy.zeros(n)\n",
    "    wv_hist = npy.zeros((n,len(wv_init)))\n",
    "    for i in range(n):\n",
    "        wv = wv -alpha*dCE_FNN_num(wv,M,K,x_train,t_train)\n",
    "        err_train[i] = CE_FNN(wv,M,K,x_train,t_train)\n",
    "        err_test[i] = CE_FNN(wv,M,K,x_test,t_test)\n",
    "        wv_hist[i,:]=wv\n",
    "    return wv, wv_hist, err_train, err_test\n",
    "\n",
    "M = 2\n",
    "K = 3\n",
    "\n",
    "npy.random.seed(1)\n",
    "WV_init = npy.random.normal(0,0.01,M*3+K*(M+1))\n",
    "N_step=1000\n",
    "alpha=0.215\n",
    "\n",
    "WV,WV_hist,Err_train,Err_test=Fit_FNN_num(WV_init,M,K,X_train,T_train,X_test,T_test,N_step,alpha)\n",
    "\n",
    "# 学習誤差の表示\n",
    "plt.figure(1,figsize=(3,3))\n",
    "plt.plot(Err_train, 'black',label='training')\n",
    "plt.plot(Err_test,'blue',label='test')\n",
    "plt.legend()\n",
    "plt.show()\n",
    "\n",
    "plt.figure(1,figsize=(3,3))\n",
    "plt.plot(WV_hist[:,:M*3], 'green')\n",
    "plt.plot(WV_hist[:,M*3:],'orange')\n",
    "plt.show()"
   ]
  },
  {
   "cell_type": "code",
   "execution_count": 11,
   "metadata": {},
   "outputs": [
    {
     "data": {
      "image/png": "[encoded data removed]",
      "text/plain": [
       "<Figure size 216x216 with 1 Axes>"
      ]
     },
     "metadata": {
      "needs_background": "light"
     },
     "output_type": "display_data"
    }
   ],
   "source": [
    "# 境界線の表示\n",
    "def show_FNN(wv,M,K):\n",
    "    xn = 60\n",
    "    x0 = npy.linspace(X_range0[0],X_range0[1],xn)\n",
    "    x1 = npy.linspace(X_range1[0],X_range1[1],xn)\n",
    "    xx0, xx1 = npy.meshgrid(x0,x1)\n",
    "    x = npy.c_[npy.reshape(xx0,xn*xn,1),npy.reshape(xx1,xn*xn,1)]\n",
    "    y,a,z,b = FNN(wv,M,K,x)\n",
    "    plt.figure(1,figsize=(4,4))\n",
    "    for ic in range(K):\n",
    "        f = y[:,ic]\n",
    "        f = f.reshape(xn,xn)\n",
    "        f = f.T\n",
    "        cont = plt.contour(xx0,xx1,f,levels=[0.5,0.7],colors=['blue','black'])\n",
    "        cont.clabel(fmt='%.1f',fontsize=9)\n",
    "        plt.xlim(X_range0)\n",
    "        plt.ylim(X_range1)\n",
    "\n",
    "plt.figure(1,figsize=(3,3))\n",
    "Show_data(X_test,T_test)\n",
    "show_FNN(WV,M,K)\n",
    "plt.show()"
   ]
  }
 ],
 "metadata": {
  "kernelspec": {
   "display_name": "Python 3",
   "language": "python",
   "name": "python3"
  },
  "language_info": {
   "codemirror_mode": {
    "name": "ipython",
    "version": 3
   },
   "file_extension": ".py",
   "mimetype": "text/x-python",
   "name": "python",
   "nbconvert_exporter": "python",
   "pygments_lexer": "ipython3",
   "version": "3.7.4"
  }
 },
 "nbformat": 4,
 "nbformat_minor": 2
}
