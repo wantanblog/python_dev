{
 "cells": [
  {
   "cell_type": "code",
   "execution_count": 2,
   "metadata": {},
   "outputs": [
    {
     "name": "stdout",
     "output_type": "stream",
     "text": [
      "[129.79310345   0.62068966]\n"
     ]
    }
   ],
   "source": [
    "# 平均誤差エントロピーの微分\n",
    "import numpy as npy\n",
    "import matplotlib.pyplot as plt\n",
    "%matplotlib inline\n",
    "\n",
    "# ロジスティック関数\n",
    "def logistic(x,w):\n",
    "    y = 1 / (1 + npy.exp(-(w[0]*x + w[1])))\n",
    "    return y\n",
    "\n",
    "# 偏微分後の式\n",
    "def dcee_logistic(w,x,t):\n",
    "    # ロジスティック関数を適用する\n",
    "    y = logistic(x,w)\n",
    "    # 返却値\n",
    "    dcee = npy.zeros(2)\n",
    "    # データの数だけループする\n",
    "    for num in range(len(y)):\n",
    "        # w0の偏微分式\n",
    "        dcee[0] = dcee[0]+(y[num]- t[num])*x[num]\n",
    "        # w1の偏微分式\n",
    "        dcee[1] = dcee[1]+(y[num]- t[num])\n",
    "    # 偏微分により算出した値の平均をとる\n",
    "    dcee = dcee / X_n\n",
    "    return dcee\n",
    "\n",
    "# データセットの取り出し\n",
    "sample_data = npy.load('classdata1.npz')\n",
    "X_n = sample_data['X_n']\n",
    "X = sample_data['X']\n",
    "T = sample_data['Y']\n",
    "\n",
    "W=[1,1]\n",
    "result = dcee_logistic(W, X, T)\n",
    "\n",
    "print(result)\n"
   ]
  },
  {
   "cell_type": "code",
   "execution_count": 11,
   "metadata": {},
   "outputs": [
    {
     "name": "stdout",
     "output_type": "stream",
     "text": [
      "w0=-0.07,w1=11.89\n",
      "CEE=0.22\n",
      "Bounday=180.50 g\n"
     ]
    },
    {
     "data": {
      "image/png": "[encoded data removed]",
      "text/plain": [
       "<Figure size 216x216 with 1 Axes>"
      ]
     },
     "metadata": {
      "needs_background": "light"
     },
     "output_type": "display_data"
    }
   ],
   "source": [
    "# 勾配法によるパラメータの算出\n",
    "import numpy as npy\n",
    "import matplotlib.pyplot as plt\n",
    "from scipy.optimize import minimize\n",
    "%matplotlib inline\n",
    "\n",
    "# ロジスティック関数\n",
    "def logistic(x,w):\n",
    "    y = 1 / (1 + npy.exp(-(w[0]*x + w[1])))\n",
    "    return y\n",
    "\n",
    "# ロジスティック関数の描写\n",
    "def show_logistic(w):\n",
    "    xb = npy.linspace(X_min, X_max, 100)\n",
    "    y = logistic(xb, w)\n",
    "    plt.plot(xb,y,color='gray',linewidth=4)\n",
    "    # 決定境界\n",
    "    i = npy.min(npy.where(y > 0.5))\n",
    "    B = (xb[i -1] + xb[i])/2\n",
    "    plt.plot([B, B], [-.5, 1.5],color='k',linestyle='--')\n",
    "    plt.grid(True)\n",
    "    return B\n",
    "\n",
    "# データ分布表示関数\n",
    "def show_data(x,t):\n",
    "    K = npy.max(t) + 1\n",
    "    for k in range(K):\n",
    "        plt.plot(x[t == k], t[t == k], X_col[k],alpha=0.5, linestyle='none',marker='o')\n",
    "    plt.grid(True)\n",
    "    plt.ylim(-.5, 1.5)\n",
    "    plt.xlim(X_min, X_max)\n",
    "    plt.yticks([0,1])\n",
    "\n",
    "# 平均交差エントロピー誤差\n",
    "def cee_logistic(w,x,t):\n",
    "    y = logistic(x,w)\n",
    "    cee = 0\n",
    "    for n in range(len(y)):\n",
    "        cee = cee -(t[n]*npy.log(y[n]) + (1 - t[n]) * npy.log(1 - y[n]))\n",
    "    cee = cee / X_n\n",
    "    return cee\n",
    "\n",
    "# 偏微分後の式\n",
    "def dcee_logistic(w,x,t):\n",
    "    # ロジスティック関数を適用する\n",
    "    y = logistic(x,w)\n",
    "    # 返却値\n",
    "    dcee = npy.zeros(2)\n",
    "    # データの数だけループする\n",
    "    for num in range(len(y)):\n",
    "        # w0の偏微分式\n",
    "        dcee[0] = dcee[0]+(y[num]- t[num])*x[num]\n",
    "        # w1の偏微分式\n",
    "        dcee[1] = dcee[1]+(y[num]- t[num])\n",
    "    # 偏微分により算出した値の平均をとる\n",
    "    dcee = dcee / X_n\n",
    "    return dcee\n",
    "\n",
    "def fit_logistic(w_init, x, t):\n",
    "    result = minimize(cee_logistic, w_init, args=(x,t), jac=dcee_logistic,method=\"CG\")\n",
    "    return result.x\n",
    "\n",
    "# データ生成\n",
    "# データセットの取り出し\n",
    "sample_data = npy.load('classdata1.npz')\n",
    "X_min = sample_data['X_min']\n",
    "X_max = sample_data['X_max']\n",
    "X_n = sample_data['X_n']\n",
    "X = sample_data['X']\n",
    "T = sample_data['Y']\n",
    "X_col = ['cornflowerblue','gray']\n",
    "\n",
    "plt.figure(1,figsize=(3,3))\n",
    "W_init = [0.14,-25]\n",
    "W = fit_logistic(W_init, X, T)\n",
    "print(\"w0={0:.2f},w1={1:.2f}\".format(W[0],W[1]))\n",
    "\n",
    "B=show_logistic(W)\n",
    "show_data(X,T)\n",
    "plt.ylim(-.5, 1.5)\n",
    "plt.xlim(X_min, X_max)\n",
    "cee = cee_logistic(W,X,T)\n",
    "print(\"CEE={0:.2f}\".format(cee))\n",
    "print(\"Bounday={0:.2f} g\".format(B))\n",
    "plt.show()\n"
   ]
  }
 ],
 "metadata": {
  "kernelspec": {
   "display_name": "Python 3",
   "language": "python",
   "name": "python3"
  },
  "language_info": {
   "codemirror_mode": {
    "name": "ipython",
    "version": 3
   },
   "file_extension": ".py",
   "mimetype": "text/x-python",
   "name": "python",
   "nbconvert_exporter": "python",
   "pygments_lexer": "ipython3",
   "version": "3.7.4"
  }
 },
 "nbformat": 4,
 "nbformat_minor": 2
}
