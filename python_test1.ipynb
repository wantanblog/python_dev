{
 "cells": [
  {
   "cell_type": "code",
   "execution_count": 19,
   "metadata": {},
   "outputs": [
    {
     "name": "stdout",
     "output_type": "stream",
     "text": [
      "3\n",
      "6\n",
      "2.0\n",
      "1.0\n"
     ]
    }
   ],
   "source": [
    "num = 1\n",
    "#加算\n",
    "num = num + 2\n",
    "print(num)\n",
    "#乗算\n",
    "num = num * 2\n",
    "print(num)\n",
    "#除算\n",
    "num = num / 3\n",
    "print(num)\n",
    "#減算\n",
    "num = num -1 \n",
    "print(num)\n"
   ]
  },
  {
   "cell_type": "code",
   "execution_count": 7,
   "metadata": {},
   "outputs": [
    {
     "name": "stdout",
     "output_type": "stream",
     "text": [
      "16\n",
      "32\n"
     ]
    }
   ],
   "source": [
    "#累乗\n",
    "print(2**4)\n",
    "print(2**5)"
   ]
  },
  {
   "cell_type": "code",
   "execution_count": 13,
   "metadata": {},
   "outputs": [
    {
     "name": "stdout",
     "output_type": "stream",
     "text": [
      "<class 'int'>\n",
      "<class 'float'>\n",
      "<class 'bool'>\n",
      "<class 'str'>\n"
     ]
    }
   ],
   "source": [
    "print(type(1))\n",
    "print(type(0.1))\n",
    "print(type(True))\n",
    "print(type('test'))"
   ]
  },
  {
   "cell_type": "code",
   "execution_count": 18,
   "metadata": {},
   "outputs": [
    {
     "name": "stdout",
     "output_type": "stream",
     "text": [
      "num= 0.25\n",
      "2.25\n"
     ]
    }
   ],
   "source": [
    "num = 1 / 4\n",
    "print('num= ' + str(num))\n",
    "num = num + int('2')\n",
    "print (num)"
   ]
  },
  {
   "cell_type": "code",
   "execution_count": 26,
   "metadata": {},
   "outputs": [
    {
     "name": "stdout",
     "output_type": "stream",
     "text": [
      "num1=10,num2=15,num3=30\n"
     ]
    }
   ],
   "source": [
    "num1 = 10\n",
    "num2 = 15\n",
    "num3 = 30\n",
    "print('num1={0},num2={1},num3={2}'.format(num1,num2,num3))"
   ]
  },
  {
   "cell_type": "code",
   "execution_count": 40,
   "metadata": {},
   "outputs": [
    {
     "name": "stdout",
     "output_type": "stream",
     "text": [
      "そのままlist=>[1, 2, 4, 8, 16, 32]\n",
      "listの一番目＝>1\n",
      "listの長さ＝>6\n",
      "listの七番目＝>100\n",
      "listの七番目＝>64\n"
     ]
    }
   ],
   "source": [
    "#numlist定義\n",
    "numlist = [1,2,4,8,16,32]\n",
    "#そのまま表示すると宣言通りの形で表示\n",
    "print('そのままlist=>' + str(numlist))\n",
    "#指定要素のみを抜き出す\n",
    "print('listの一番目＝>' + str(numlist[0]))\n",
    "#listの長さを出力する\n",
    "print('listの長さ＝>' + str(len(numlist)))\n",
    "#要素を追加する\n",
    "numlist.append(100)\n",
    "print('listの七番目＝>' + str(numlist[6]))\n",
    "#要素を置き換える\n",
    "numlist[6] = 64\n",
    "print('listの七番目＝>' + str(numlist[6]))\n",
    "\n"
   ]
  },
  {
   "cell_type": "code",
   "execution_count": 46,
   "metadata": {},
   "outputs": [
    {
     "name": "stdout",
     "output_type": "stream",
     "text": [
      "そのまま表示＝>[[1, 2, 3], [2, 4, 8]]\n",
      "一つ目のリストを表示＝>[1, 2, 3]\n",
      "一つの要素を表示＝>8\n"
     ]
    }
   ],
   "source": [
    "#二次元リストの定義\n",
    "list2d = [[1,2,3],[2,4,8]]\n",
    "print('そのまま表示＝>' + str(list2d))\n",
    "print('一つ目のリストを表示＝>' + str(list2d[0]))\n",
    "print('一つの要素を表示＝>' + str(list2d[1][2]))"
   ]
  },
  {
   "cell_type": "code",
   "execution_count": 2,
   "metadata": {},
   "outputs": [
    {
     "name": "stdout",
     "output_type": "stream",
     "text": [
      "(1, 2, 4, 8, 16)\n",
      "2\n",
      "5\n"
     ]
    }
   ],
   "source": [
    "#タプルの定義\n",
    "tuple_list = (1,2,4,8,16)\n",
    "print(tuple_list)\n",
    "print(tuple_list[1])\n",
    "print(len(tuple_list))"
   ]
  },
  {
   "cell_type": "code",
   "execution_count": 12,
   "metadata": {},
   "outputs": [
    {
     "name": "stdout",
     "output_type": "stream",
     "text": [
      "数値は20以上かマイナス値です。\n"
     ]
    }
   ],
   "source": [
    "num = -11\n",
    "\n",
    "if num > 10 and num < 20:\n",
    "    result = '数値は10以上20未満です。'\n",
    "    print(result)\n",
    "elif num >= 20 or num < 0:\n",
    "    result = '数値は20以上かマイナス値です。'\n",
    "    print(result)\n",
    "else:\n",
    "    result = '数値は0以上11未満です。'\n",
    "    print(result)"
   ]
  },
  {
   "cell_type": "code",
   "execution_count": 13,
   "metadata": {},
   "outputs": [
    {
     "name": "stdout",
     "output_type": "stream",
     "text": [
      "1\n",
      "2\n",
      "3\n"
     ]
    }
   ],
   "source": [
    "for num in [1,2,3]:\n",
    "    print(num)"
   ]
  },
  {
   "cell_type": "code",
   "execution_count": 29,
   "metadata": {},
   "outputs": [
    {
     "name": "stdout",
     "output_type": "stream",
     "text": [
      "3\n",
      "5\n",
      "9\n",
      "17\n",
      "33\n",
      "[3, 5, 9, 17, 33]\n"
     ]
    }
   ],
   "source": [
    "numlist = [2,4,8,16,32]\n",
    "\n",
    "for i in range(len(numlist)):\n",
    "    numlist[i] = numlist[i] + 1\n",
    "    print(numlist[i])\n",
    "\n",
    "print(numlist)"
   ]
  },
  {
   "cell_type": "code",
   "execution_count": 28,
   "metadata": {
    "scrolled": true
   },
   "outputs": [
    {
     "name": "stdout",
     "output_type": "stream",
     "text": [
      "3\n",
      "9\n",
      "27\n",
      "81\n",
      "243\n",
      "[3, 9, 27, 81, 243]\n"
     ]
    }
   ],
   "source": [
    "num = 1\n",
    "objlist = []\n",
    "#ループ数を指定\n",
    "numlist = range(5)\n",
    "#ループ回数をiに指定する\n",
    "for i in numlist:\n",
    "    #ループごとに3倍する\n",
    "    num = num * 3\n",
    "    objlist.append(num)\n",
    "    print(num)\n",
    "    \n",
    "print(objlist)"
   ]
  },
  {
   "cell_type": "code",
   "execution_count": 30,
   "metadata": {},
   "outputs": [
    {
     "name": "stdout",
     "output_type": "stream",
     "text": [
      "3\n",
      "5\n",
      "9\n",
      "17\n",
      "33\n",
      "[3, 5, 9, 17, 33]\n"
     ]
    }
   ],
   "source": [
    "numlist = [2,4,8,16,32]\n",
    "\n",
    "for i,num in enumerate(numlist):\n",
    "    numlist[i] = num + 1\n",
    "    print(numlist[i])\n",
    "\n",
    "print(numlist)"
   ]
  },
  {
   "cell_type": "code",
   "execution_count": null,
   "metadata": {},
   "outputs": [],
   "source": []
  }
 ],
 "metadata": {
  "kernelspec": {
   "display_name": "Python 3",
   "language": "python",
   "name": "python3"
  },
  "language_info": {
   "codemirror_mode": {
    "name": "ipython",
    "version": 3
   },
   "file_extension": ".py",
   "mimetype": "text/x-python",
   "name": "python",
   "nbconvert_exporter": "python",
   "pygments_lexer": "ipython3",
   "version": "3.7.4"
  }
 },
 "nbformat": 4,
 "nbformat_minor": 2
}
