{
 "cells": [
  {
   "cell_type": "code",
   "execution_count": 42,
   "metadata": {},
   "outputs": [
    {
     "name": "stdout",
     "output_type": "stream",
     "text": [
      "[0.61743692]\n",
      "-130.73081352003646\n",
      "0.9831086573905393\n"
     ]
    },
    {
     "data": {
      "text/plain": [
       "[<matplotlib.lines.Line2D at 0x2116c912908>]"
      ]
     },
     "execution_count": 42,
     "metadata": {},
     "output_type": "execute_result"
    },
    {
     "data": {
      "image/png": "[encoded data removed]",
      "text/plain": [
       "<Figure size 432x288 with 1 Axes>"
      ]
     },
     "metadata": {
      "needs_background": "light"
     },
     "output_type": "display_data"
    }
   ],
   "source": [
    "# sklearn.linear_model.LinearRegression クラスを読み込み\n",
    "from sklearn import linear_model\n",
    "import pandas as pd\n",
    "import numpy as npy\n",
    "import matplotlib.pyplot as plt\n",
    "\n",
    "clf = linear_model.LinearRegression()\n",
    "\n",
    "# データをblog_data.npzファイルから取り出す\n",
    "sample_data = npy.load('blog_data.npz')\n",
    "\n",
    "X = sample_data['X']\n",
    "X = npy.array([X]).T\n",
    "Y = sample_data['Y']\n",
    "\n",
    "# 予測モデルを作成\n",
    "clf.fit(X, Y)\n",
    "# 回帰係数\n",
    "print(clf.coef_)\n",
    "# 切片 (誤差)\n",
    "print(clf.intercept_)\n",
    "# 決定係数\n",
    "print(clf.score(X, Y))\n",
    "\n",
    "# 散布図\n",
    "plt.scatter(X, Y)\n",
    "# 回帰直線\n",
    "plt.plot(X, clf.predict(X))"
   ]
  },
  {
   "cell_type": "code",
   "execution_count": 51,
   "metadata": {},
   "outputs": [
    {
     "name": "stdout",
     "output_type": "stream",
     "text": [
      "       Name  Coefficients\n",
      "0  pageview     -0.004414\n",
      "1     users     -0.225594\n",
      "2  new_user      0.249534\n",
      "3  pagetime     -0.007337\n",
      "4    bounce     11.436902\n",
      "5   session     -0.007255\n",
      "-4.730505205297209\n"
     ]
    },
    {
     "name": "stderr",
     "output_type": "stream",
     "text": [
      "C:\\Users\\wanta\\Anaconda3\\lib\\site-packages\\ipykernel_launcher.py:11: FutureWarning: Method .as_matrix will be removed in a future version. Use .values instead.\n",
      "  # This is added back by InteractiveShellApp.init_path()\n",
      "C:\\Users\\wanta\\Anaconda3\\lib\\site-packages\\ipykernel_launcher.py:12: FutureWarning: Method .as_matrix will be removed in a future version. Use .values instead.\n",
      "  if sys.path[0] == '':\n"
     ]
    }
   ],
   "source": [
    "# sklearn.linear_model.LinearRegression クラスを読み込み\n",
    "from sklearn import linear_model\n",
    "clf = linear_model.LinearRegression()\n",
    "import pandas as pd\n",
    "import numpy as np\n",
    "import matplotlib.pyplot as plt\n",
    "\n",
    "blogdata = pd.read_csv(\"monthly_repo.csv\", sep=\",\")\n",
    "# 対象外の項目を除く\n",
    "except_values = blogdata.drop(\"Ad\", axis=1).drop(\"month\", axis=1)\n",
    "X = except_values.as_matrix()\n",
    "Y = blogdata['Ad'].as_matrix()\n",
    " \n",
    "# 予測モデルを作成\n",
    "clf.fit(X, Y)\n",
    " \n",
    "# 偏回帰係数\n",
    "print(pd.DataFrame({\"Name\":except_values.columns,\"Coefficients\":clf.coef_}))\n",
    " \n",
    "# 切片 (誤差)\n",
    "print(clf.intercept_)\n"
   ]
  },
  {
   "cell_type": "code",
   "execution_count": 52,
   "metadata": {},
   "outputs": [
    {
     "name": "stdout",
     "output_type": "stream",
     "text": [
      "       Name  Coefficients\n",
      "0  pageview      3.755232\n",
      "1     users    118.060812\n",
      "2  new_user    126.898203\n",
      "3  pagetime      0.126866\n",
      "4    bounce      0.619499\n",
      "5   session      4.637096\n",
      "-3.610323004487209e-15\n"
     ]
    },
    {
     "name": "stderr",
     "output_type": "stream",
     "text": [
      "C:\\Users\\wanta\\Anaconda3\\lib\\site-packages\\ipykernel_launcher.py:14: FutureWarning: Method .as_matrix will be removed in a future version. Use .values instead.\n",
      "  \n",
      "C:\\Users\\wanta\\Anaconda3\\lib\\site-packages\\ipykernel_launcher.py:15: FutureWarning: Method .as_matrix will be removed in a future version. Use .values instead.\n",
      "  from ipykernel import kernelapp as app\n"
     ]
    }
   ],
   "source": [
    "# sklearn.linear_model.LinearRegression クラスを読み込み\n",
    "from sklearn import linear_model\n",
    "clf = linear_model.LinearRegression()\n",
    "import pandas as pd\n",
    "import numpy as np\n",
    "import matplotlib.pyplot as plt\n",
    "\n",
    "blogdata = pd.read_csv(\"monthly_repo.csv\", sep=\",\")\n",
    "# データフレームの各列を正規化\n",
    "blogdata2 = blogdata.apply(lambda x: (x - np.mean(x)) / (np.max(x) - np.min(x)))\n",
    "\n",
    "# 対象外の項目を除く\n",
    "except_values = blogdata2.drop(\"Ad\", axis=1).drop(\"month\", axis=1)\n",
    "X = except_values.as_matrix()\n",
    "Y = blogdata2['Ad'].as_matrix()\n",
    " \n",
    "# 予測モデルを作成\n",
    "clf.fit(X, Y)\n",
    " \n",
    "# 相関値\n",
    "print(pd.DataFrame({\"Name\":except_values.columns,\"Coefficients\":npy.abs(clf.coef_)}))\n",
    " \n",
    "# 切片 (誤差)\n",
    "print(clf.intercept_)\n"
   ]
  }
 ],
 "metadata": {
  "kernelspec": {
   "display_name": "Python 3",
   "language": "python",
   "name": "python3"
  },
  "language_info": {
   "codemirror_mode": {
    "name": "ipython",
    "version": 3
   },
   "file_extension": ".py",
   "mimetype": "text/x-python",
   "name": "python",
   "nbconvert_exporter": "python",
   "pygments_lexer": "ipython3",
   "version": "3.7.4"
  }
 },
 "nbformat": 4,
 "nbformat_minor": 2
}
