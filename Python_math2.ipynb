{
 "cells": [
  {
   "cell_type": "code",
   "execution_count": 8,
   "metadata": {},
   "outputs": [
    {
     "name": "stdout",
     "output_type": "stream",
     "text": [
      "kの和\n",
      "15\n",
      "k^2の和\n",
      "55\n"
     ]
    }
   ],
   "source": [
    "import numpy as npy\n",
    "\n",
    "# 関数k\n",
    "def funck(k):\n",
    "    return k\n",
    "\n",
    "# 関数k^2\n",
    "def funckk(k):\n",
    "    return k**2\n",
    "\n",
    "# 1から5の配列\n",
    "numlist = [1,2,3,4,5]\n",
    "\n",
    "resultk = 0\n",
    "resultkk = 0\n",
    "\n",
    "for i in numlist:\n",
    "    resultk = resultk + funck(i)\n",
    "    \n",
    "for i in numlist:\n",
    "    resultkk = resultkk + funckk(i)\n",
    "\n",
    "print('kの和')\n",
    "print(resultk)\n",
    "print('k^2の和')\n",
    "print(resultkk)\n"
   ]
  },
  {
   "cell_type": "code",
   "execution_count": 15,
   "metadata": {},
   "outputs": [
    {
     "name": "stdout",
     "output_type": "stream",
     "text": [
      "kの和\n",
      "15.0\n",
      "k^2の和\n",
      "55.0\n"
     ]
    }
   ],
   "source": [
    "import numpy as npy\n",
    "\n",
    "# 関数k\n",
    "def funck(k):\n",
    "    return k\n",
    "\n",
    "# 関数k^2\n",
    "def funckk(k):\n",
    "    return k**2\n",
    "\n",
    "# 1から5の配列\n",
    "ones = npy.ones(5)\n",
    "numlist = npy.arange(1,6)\n",
    "\n",
    "klist = funck(numlist)\n",
    "kklist = funckk(numlist)\n",
    "\n",
    "resultk = ones.dot(klist) \n",
    "resultkk = ones.dot(kklist)\n",
    "\n",
    "print('kの和')\n",
    "print(resultk)\n",
    "print('k^2の和')\n",
    "print(resultkk)\n"
   ]
  },
  {
   "cell_type": "code",
   "execution_count": 19,
   "metadata": {},
   "outputs": [
    {
     "name": "stdout",
     "output_type": "stream",
     "text": [
      "2k(k^2+k+1)の１から２０までの総和\n",
      "94360\n"
     ]
    }
   ],
   "source": [
    "import numpy as npy\n",
    "\n",
    "# 関数a\n",
    "def func1(k):\n",
    "    return 2*k\n",
    "\n",
    "# 関数b\n",
    "def func2(k):\n",
    "    return k**2 + k +1\n",
    "\n",
    "# 1から20の配列\n",
    "numlist = npy.arange(1,21)\n",
    "\n",
    "list1 = func1(numlist)\n",
    "list2 = func2(numlist)\n",
    "\n",
    "result = list1.dot(list2) \n",
    "\n",
    "print('2k(k^2+k+1)の１から２０までの総和')\n",
    "print(result)\n"
   ]
  },
  {
   "cell_type": "code",
   "execution_count": 21,
   "metadata": {},
   "outputs": [
    {
     "name": "stdout",
     "output_type": "stream",
     "text": [
      "kの総乗\n",
      "120\n",
      "k^2+2kの総乗\n",
      "302400\n"
     ]
    }
   ],
   "source": [
    "import numpy as npy\n",
    "\n",
    "# 関数k\n",
    "def funck(k):\n",
    "    return k\n",
    "\n",
    "# 関数2\n",
    "def func2(k):\n",
    "    return k**2 + 2*k\n",
    "\n",
    "# 1から5の配列\n",
    "numlist = [1,2,3,4,5]\n",
    "\n",
    "resultk = 1\n",
    "resultkk = 1\n",
    "\n",
    "for i in numlist:\n",
    "    resultk = resultk * funck(i)\n",
    "    \n",
    "for i in numlist:\n",
    "    resultkk = resultkk * func2(i)\n",
    "\n",
    "print('kの総乗')\n",
    "print(resultk)\n",
    "print('k^2+2kの総乗')\n",
    "print(resultkk)\n"
   ]
  },
  {
   "cell_type": "code",
   "execution_count": null,
   "metadata": {},
   "outputs": [],
   "source": []
  }
 ],
 "metadata": {
  "kernelspec": {
   "display_name": "Python 3",
   "language": "python",
   "name": "python3"
  },
  "language_info": {
   "codemirror_mode": {
    "name": "ipython",
    "version": 3
   },
   "file_extension": ".py",
   "mimetype": "text/x-python",
   "name": "python",
   "nbconvert_exporter": "python",
   "pygments_lexer": "ipython3",
   "version": "3.7.4"
  }
 },
 "nbformat": 4,
 "nbformat_minor": 2
}
