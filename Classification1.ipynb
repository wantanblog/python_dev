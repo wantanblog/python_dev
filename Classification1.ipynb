{
 "cells": [
  {
   "cell_type": "code",
   "execution_count": 7,
   "metadata": {},
   "outputs": [
    {
     "name": "stdout",
     "output_type": "stream",
     "text": [
      "False\n",
      "False\n",
      "True\n",
      "True\n",
      "False\n",
      "False\n",
      "False\n",
      "True\n",
      "True\n",
      "False\n",
      "False\n",
      "True\n",
      "True\n",
      "True\n",
      "False\n",
      "True\n",
      "True\n",
      "True\n",
      "False\n",
      "False\n",
      "True\n",
      "False\n",
      "False\n",
      "True\n",
      "True\n",
      "False\n",
      "False\n",
      "True\n",
      "False\n",
      "True\n",
      "X=[1.94 1.67 0.92 1.11 1.41 1.65 2.28 0.47 1.07 2.19 2.08 1.02 0.91 1.16\n",
      " 1.46 1.02 0.85 0.89 1.79 1.89 0.75 0.9  1.87 0.5  0.69 1.5  0.96 0.53\n",
      " 1.21 0.6 ]\n",
      "T=[1 1 0 0 1 1 1 0 0 1 1 0 0 0 1 0 0 0 1 1 0 1 1 0 0 1 1 0 1 0]\n"
     ]
    },
    {
     "data": {
      "image/png": "[encoded data removed]",
      "text/plain": [
       "<Figure size 216x216 with 1 Axes>"
      ]
     },
     "metadata": {
      "needs_background": "light"
     },
     "output_type": "display_data"
    }
   ],
   "source": [
    "# サンプル\n",
    "import numpy as npy\n",
    "import matplotlib.pyplot as plt\n",
    "%matplotlib inline\n",
    "\n",
    "# データ分布表示関数\n",
    "def show_data(x,t):\n",
    "    K = npy.max(t) + 1\n",
    "    for k in range(K):\n",
    "        plt.plot(x[t == k], t[t == k], X_col[k],alpha=0.5, linestyle='none',marker='o')\n",
    "    plt.grid(True)\n",
    "    plt.ylim(-.5, 1.5)\n",
    "    plt.xlim(X_min, X_max)\n",
    "    plt.yticks([0,1])\n",
    "\n",
    "# データ生成\n",
    "npy.random.seed(seed=0)\n",
    "X_min = 0\n",
    "X_max = 2.5\n",
    "X_n = 30\n",
    "X_col = ['cornflowerblue','gray']\n",
    "X = npy.zeros(X_n)\n",
    "# 目標データ\n",
    "T = npy.zeros(X_n, dtype=npy.uint8)\n",
    "# 分布の開始地点\n",
    "Dist_s = [0.4,0.8]\n",
    "# 分布の幅\n",
    "Dist_w = [0.8,1.6]\n",
    "# クラス0の比率\n",
    "Pi = 0.5\n",
    "\n",
    "for n in range(X_n):\n",
    "    wk = npy.random.rand()\n",
    "    print(wk<Pi)\n",
    "    T[n] = 0*(wk<Pi) + 1 * (wk >= Pi)\n",
    "    X[n] = npy.random.rand() * Dist_w[T[n]]+Dist_s[T[n]]\n",
    "    \n",
    "print('X=' + str(npy.round(X,2)))\n",
    "print('T=' + str(T))\n",
    "\n",
    "flg = plt.figure(figsize=(3,3))\n",
    "show_data(X,T)\n",
    "plt.show()"
   ]
  },
  {
   "cell_type": "code",
   "execution_count": 54,
   "metadata": {},
   "outputs": [
    {
     "name": "stdout",
     "output_type": "stream",
     "text": [
      "[ 95 130 201 165 185 179 153 121 119 223 152 239 198 205 116 100 206 238\n",
      " 242 266 183 122 124 201 203 248 223 207 123]\n",
      "95\n"
     ]
    }
   ],
   "source": [
    "# データセット準備\n",
    "import numpy as npy\n",
    "\n",
    "# データ生成\n",
    "views =[95,130,201,165,185,179,153,121,119,223,152,239,198,205,116,100,206,238,242,266,183,122,124,201,203,248,223,207,123]\n",
    "# 1=休日、0=平日\n",
    "day_of_week=[1,1,0,0,0,0,0,1,1,0,1,0,0,0,1,1,0,0,0,0,0,1,1,1,0,0,0,0,1]\n",
    "#day_of_week=[0,0,1,1,1,1,1,0,0,1,0,1,1,1,0,0,1,1,1,1,1,0,0,0,1,1,1,1,0]\n",
    "\n",
    "# データをblog_data.npzファイルに保存する\n",
    "npy.savez('classdata1.npz',X=views,Y=day_of_week,X_min=min(views),X_max=max(views),X_n=len(views))\n",
    "\n",
    "# データをblog_data.npzファイルから取り出す\n",
    "sample_data = npy.load('classdata1.npz')\n",
    "\n",
    "print(sample_data['X'])\n",
    "print(sample_data['X_min'])"
   ]
  },
  {
   "cell_type": "code",
   "execution_count": 55,
   "metadata": {},
   "outputs": [
    {
     "name": "stdout",
     "output_type": "stream",
     "text": [
      "X=[ 95 130 201 165 185 179 153 121 119 223 152 239 198 205 116 100 206 238\n",
      " 242 266 183 122 124 201 203 248 223 207 123]\n",
      "T=[1 1 0 0 0 0 0 1 1 0 1 0 0 0 1 1 0 0 0 0 0 1 1 1 0 0 0 0 1]\n"
     ]
    },
    {
     "data": {
      "image/png": "[encoded data removed]",
      "text/plain": [
       "<Figure size 216x216 with 1 Axes>"
      ]
     },
     "metadata": {
      "needs_background": "light"
     },
     "output_type": "display_data"
    }
   ],
   "source": [
    "# データサンプルの分類\n",
    "import numpy as npy\n",
    "import matplotlib.pyplot as plt\n",
    "%matplotlib inline\n",
    "\n",
    "# データ分布表示関数\n",
    "def show_data(x,t):\n",
    "    K = npy.max(t) + 1\n",
    "    for k in range(K):\n",
    "        # データ分布の設定\n",
    "        plt.plot(x[t == k], t[t == k], X_col[k],alpha=0.5, linestyle='none',marker='o')\n",
    "    plt.grid(True)\n",
    "    plt.ylim(-.5, 1.5)\n",
    "    plt.xlim(X_min, X_max)\n",
    "    plt.yticks([0,1])\n",
    "\n",
    "# データ生成\n",
    "# データセットの取り出し\n",
    "sample_data = npy.load('classdata1.npz')\n",
    "X_min = sample_data['X_min']\n",
    "X_max = sample_data['X_max']\n",
    "X_n = sample_data['X_n']\n",
    "X = sample_data['X']\n",
    "X_col = ['cornflowerblue','gray']\n",
    "\n",
    "# 目標データ\n",
    "T = sample_data['Y']\n",
    "    \n",
    "print('X=' + str(npy.round(X,2)))\n",
    "print('T=' + str(T))\n",
    "\n",
    "flg = plt.figure(figsize=(3,3))\n",
    "show_data(X,T)\n",
    "plt.show()"
   ]
  },
  {
   "cell_type": "code",
   "execution_count": 32,
   "metadata": {
    "scrolled": true
   },
   "outputs": [
    {
     "name": "stdout",
     "output_type": "stream",
     "text": [
      "153.0\n",
      "201.0\n",
      "[0, 0, 0, 0, 0, 0, 0, 1]\n",
      "0.125\n"
     ]
    },
    {
     "data": {
      "text/plain": [
       "[<matplotlib.lines.Line2D at 0x1caa9269908>]"
      ]
     },
     "execution_count": 32,
     "metadata": {},
     "output_type": "execute_result"
    },
    {
     "data": {
      "image/png": "[encoded data removed]",
      "text/plain": [
       "<Figure size 432x288 with 1 Axes>"
      ]
     },
     "metadata": {
      "needs_background": "light"
     },
     "output_type": "display_data"
    }
   ],
   "source": [
    "# 確率での表現\n",
    "import numpy as npy\n",
    "import matplotlib.pyplot as plt\n",
    "%matplotlib inline\n",
    "\n",
    "def func(xline,b_B,b_C,class_B_value):\n",
    "    yline=[]\n",
    "    for i in xline: \n",
    "        if i < b_B:\n",
    "            yline.append(1)\n",
    "        elif i <= b_C:\n",
    "            yline.append(class_B_value)\n",
    "        else:\n",
    "            yline.append(0)\n",
    "    return yline\n",
    "\n",
    "# データ生成\n",
    "# データセットの取り出し\n",
    "sample_data = npy.load('classdata1.npz')\n",
    "X_min = sample_data['X_min']\n",
    "X_max = sample_data['X_max']\n",
    "X_n = sample_data['X_n']\n",
    "X = sample_data['X']\n",
    "X_col = ['cornflowerblue','gray']\n",
    "# 目標データ\n",
    "T = sample_data['Y']\n",
    "# 平日リスト\n",
    "w_days = npy.zeros(npy.count_nonzero(T == 0))\n",
    "w_num = 0\n",
    "# 休日リスト\n",
    "h_days = npy.zeros(npy.count_nonzero(T != 0))\n",
    "h_num = 0\n",
    "# 平日データと休日データの分割\n",
    "for i in range(X_n):\n",
    "    if T[i] == 0:\n",
    "        w_days[w_num] = X[i]\n",
    "        w_num = w_num + 1\n",
    "    else:\n",
    "        h_days[h_num] = X[i]\n",
    "        h_num = h_num + 1\n",
    "\n",
    "# クラス範囲の設定\n",
    "border_B = min(w_days)\n",
    "border_C = max(h_days)\n",
    "\n",
    "class_A = []\n",
    "class_B = []\n",
    "class_C = []\n",
    "class_B_count = []\n",
    "print(border_B)\n",
    "print(border_C)\n",
    "\n",
    "for num in w_days:\n",
    "    # 平日はクラスBかCに割り振る\n",
    "    if num <= border_C:\n",
    "        class_B.append(num)\n",
    "        class_B_count.append(0)\n",
    "    else:\n",
    "        class_C.append(num)\n",
    "\n",
    "for num in h_days:\n",
    "    # 休日はクラスAかBに割り振る\n",
    "    if num < border_B:\n",
    "        class_A.append(num)\n",
    "    else:\n",
    "        class_B.append(num)\n",
    "        class_B_count.append(1)\n",
    "\n",
    "xline = npy.linspace(X_min, X_max, 500)\n",
    "b_value = npy.mean(class_B_count)\n",
    "yline = func(xline, border_B, border_C, b_value)\n",
    "print(class_B_count)\n",
    "print(npy.round(b_value,3))\n",
    "plt.grid(True)\n",
    "plt.xlim(X_min, X_max)\n",
    "plt.ylim(-.5, 1.5)\n",
    "plt.plot(xline,yline,color='gray',linewidth=4)\n"
   ]
  },
  {
   "cell_type": "code",
   "execution_count": 50,
   "metadata": {},
   "outputs": [
    {
     "name": "stdout",
     "output_type": "stream",
     "text": [
      "0.125\n",
      "0.049\n"
     ]
    },
    {
     "data": {
      "image/png": "[encoded data removed]",
      "text/plain": [
       "<Figure size 432x288 with 1 Axes>"
      ]
     },
     "metadata": {
      "needs_background": "light"
     },
     "output_type": "display_data"
    }
   ],
   "source": [
    "import numpy as npy\n",
    "import matplotlib.pyplot as plt\n",
    "%matplotlib inline\n",
    "\n",
    "def function(w):\n",
    "    return (1-w)**7*w\n",
    "\n",
    "W = npy.linspace(0, 1, 400)\n",
    "Y = function(W)\n",
    "\n",
    "plt.grid(True)\n",
    "plt.xlim(0, 1)\n",
    "plt.ylim(-.01, 0.06)\n",
    "plt.plot(W,Y,color='gray',linewidth=4)\n",
    "\n",
    "max_w = W[npy.argmax(Y)]\n",
    "max_y = max(Y)\n",
    "print(npy.round(max_w,3))\n",
    "print(npy.round(max_y,3))"
   ]
  }
 ],
 "metadata": {
  "kernelspec": {
   "display_name": "Python 3",
   "language": "python",
   "name": "python3"
  },
  "language_info": {
   "codemirror_mode": {
    "name": "ipython",
    "version": 3
   },
   "file_extension": ".py",
   "mimetype": "text/x-python",
   "name": "python",
   "nbconvert_exporter": "python",
   "pygments_lexer": "ipython3",
   "version": "3.7.4"
  }
 },
 "nbformat": 4,
 "nbformat_minor": 2
}
