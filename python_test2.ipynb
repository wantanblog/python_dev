{
 "cells": [
  {
   "cell_type": "code",
   "execution_count": 4,
   "metadata": {},
   "outputs": [
    {
     "name": "stdout",
     "output_type": "stream",
     "text": [
      "ベクトルの和は[ 3 14]\n",
      "ベクトルの差は[-1  6]\n"
     ]
    }
   ],
   "source": [
    "import numpy as npy\n",
    "\n",
    "#ベクトルの定義\n",
    "a = npy.array([1,10])\n",
    "b = npy.array([2,4])\n",
    "\n",
    "addvec = a + b\n",
    "subvec = a - b\n",
    "\n",
    "print(\"ベクトルの和は\" + str(addvec))\n",
    "print(\"ベクトルの差は\" + str(subvec))"
   ]
  },
  {
   "cell_type": "code",
   "execution_count": 7,
   "metadata": {},
   "outputs": [
    {
     "name": "stdout",
     "output_type": "stream",
     "text": [
      "ベクトルの積は[ 2 40]\n",
      "ベクトルの商は[0.5 2.5]\n"
     ]
    }
   ],
   "source": [
    "import numpy as npy\n",
    "\n",
    "#ベクトルの定義\n",
    "a = npy.array([1,10])\n",
    "b = npy.array([2,4])\n",
    "\n",
    "multivec = a * b\n",
    "divvec = a / b\n",
    "\n",
    "print(\"ベクトルの積は\" + str(multivec))\n",
    "print(\"ベクトルの商は\" + str(divvec))"
   ]
  },
  {
   "cell_type": "code",
   "execution_count": 8,
   "metadata": {},
   "outputs": [
    {
     "name": "stdout",
     "output_type": "stream",
     "text": [
      "ベクトルのスカラー倍[ 2 20]\n"
     ]
    }
   ],
   "source": [
    "import numpy as npy\n",
    "\n",
    "#ベクトルの定義\n",
    "a = npy.array([1,10])\n",
    "\n",
    "vec = 2*a\n",
    "\n",
    "print(\"ベクトルのスカラー倍\" + str(vec))"
   ]
  },
  {
   "cell_type": "code",
   "execution_count": 10,
   "metadata": {},
   "outputs": [
    {
     "name": "stdout",
     "output_type": "stream",
     "text": [
      "取り出した成分＝3\n",
      "書き換え後の成分＝100\n"
     ]
    }
   ],
   "source": [
    "import numpy as npy\n",
    "\n",
    "#ベクトルの定義\n",
    "a = npy.array([1,10])\n",
    "b = npy.array([2,4])\n",
    "\n",
    "addvec = a + b\n",
    "\n",
    "#一番目の成分を取り出す\n",
    "num = addvec[0]\n",
    "#成分を書き換える\n",
    "addvec[0] = 100\n",
    "\n",
    "print(\"取り出した成分＝\" + str(num))\n",
    "print(\"書き換え後の成分＝\" + str(addvec[0]))"
   ]
  },
  {
   "cell_type": "code",
   "execution_count": 13,
   "metadata": {},
   "outputs": [
    {
     "name": "stdout",
     "output_type": "stream",
     "text": [
      "a=[0 1 2 3 4]\n",
      "b=[2 3 4]\n"
     ]
    }
   ],
   "source": [
    "import numpy as npy\n",
    "\n",
    "# 0から生成\n",
    "a = npy.arange(5)\n",
    "# 2から4まで生成\n",
    "b = npy.arange(2,5)\n",
    "\n",
    "print(\"a=\" + str(a))\n",
    "print(\"b=\" + str(b))"
   ]
  },
  {
   "cell_type": "code",
   "execution_count": 16,
   "metadata": {},
   "outputs": [
    {
     "name": "stdout",
     "output_type": "stream",
     "text": [
      "コピー直後 a=[ 1 10]\n",
      "コピー直後 a2=[ 1 10]\n",
      "コピー直後 ac=[ 1 10]\n",
      "処理後 a=[ 2 10]\n",
      "処理後 a2=[ 2 10]\n",
      "処理後 ac=[ 3 10]\n"
     ]
    }
   ],
   "source": [
    "import numpy as npy\n",
    "\n",
    "#ベクトルの定義\n",
    "a = npy.array([1,10])\n",
    "b = npy.array([2,4])\n",
    "\n",
    "# 参照先をコピーする\n",
    "a2 = a\n",
    "# 値をコピーする\n",
    "ac = a.copy()\n",
    "\n",
    "print(\"コピー直後 a=\" + str(a))\n",
    "print(\"コピー直後 a2=\" + str(a2))\n",
    "print(\"コピー直後 ac=\" + str(ac))\n",
    "\n",
    "# 処理\n",
    "a2[0] = 2\n",
    "ac[0] = 3\n",
    "\n",
    "print(\"処理後 a=\" + str(a))\n",
    "print(\"処理後 a2=\" + str(a2))\n",
    "print(\"処理後 ac=\" + str(ac))"
   ]
  },
  {
   "cell_type": "code",
   "execution_count": 18,
   "metadata": {},
   "outputs": [
    {
     "name": "stdout",
     "output_type": "stream",
     "text": [
      "行列a=[[ 1 10]\n",
      " [ 2  5]]\n"
     ]
    }
   ],
   "source": [
    "import numpy as npy\n",
    "\n",
    "# 行列の定義\n",
    "a = npy.array([[1,10],[2,5]])\n",
    "\n",
    "print(\"行列a=\" + str(a))"
   ]
  },
  {
   "cell_type": "code",
   "execution_count": 27,
   "metadata": {},
   "outputs": [
    {
     "name": "stdout",
     "output_type": "stream",
     "text": [
      "行列サイズ=(3, 2)\n",
      "行列の高さ=3、行列の幅=2\n",
      "行列サイズのタイプ=<class 'tuple'>\n"
     ]
    }
   ],
   "source": [
    "import numpy as npy\n",
    "\n",
    "# 行列の定義\n",
    "a = npy.array([[1,10],[2,5],[1,1]])\n",
    "h, w = a.shape\n",
    "\n",
    "print(\"行列サイズ=\" + str(a.shape))\n",
    "print(\"行列の高さ=\" + str(h) + \"、行列の幅=\" + str(w))\n",
    "print(\"行列サイズのタイプ=\" + str(type(a.shape)))"
   ]
  },
  {
   "cell_type": "code",
   "execution_count": 28,
   "metadata": {},
   "outputs": [
    {
     "name": "stdout",
     "output_type": "stream",
     "text": [
      "[[  1  10]\n",
      " [  2   5]\n",
      " [100   1]]\n",
      "[ 1 10]\n",
      "5\n"
     ]
    }
   ],
   "source": [
    "import numpy as npy\n",
    "\n",
    "# 行列の定義\n",
    "a = npy.array([[1,10],[2,5],[1,1]])\n",
    "\n",
    "# 行列の取得参照\n",
    "b = a[0]\n",
    "c = a[1,1]\n",
    "# 行列の書き換え\n",
    "a[2,0] = 100\n",
    "\n",
    "print(a)\n",
    "print(b)\n",
    "print(c)"
   ]
  },
  {
   "cell_type": "code",
   "execution_count": 32,
   "metadata": {},
   "outputs": [
    {
     "name": "stdout",
     "output_type": "stream",
     "text": [
      "[[0. 0. 0.]\n",
      " [0. 0. 0.]]\n",
      "[1. 1. 1. 1. 1. 1. 1.]\n"
     ]
    }
   ],
   "source": [
    "import numpy as npy\n",
    "\n",
    "# 行列の定義\n",
    "zeros = npy.zeros((2,3))\n",
    "ones = npy.ones(7)\n",
    "\n",
    "print(zeros)\n",
    "print(ones)"
   ]
  },
  {
   "cell_type": "code",
   "execution_count": 50,
   "metadata": {},
   "outputs": [
    {
     "name": "stdout",
     "output_type": "stream",
     "text": [
      "[[0.69891983 0.57141852 0.62646802]\n",
      " [0.69179131 0.46572066 0.87677665]\n",
      " [0.10003993 0.51280035 0.76016474]]\n",
      "[[8 2 9]\n",
      " [2 5 5]]\n",
      "[[7 5 9]\n",
      " [1 8 3]]\n"
     ]
    }
   ],
   "source": [
    "import numpy as npy\n",
    "\n",
    "# ランダム行列の定義\n",
    "rands = npy.random.rand(3,3)\n",
    "\n",
    "print(rands)\n",
    "# ランダムな整数値の行列\n",
    "print(npy.random.randint(1,10,(2,3)))\n",
    "print(npy.random.randint(1,10,(2,3)))"
   ]
  },
  {
   "cell_type": "code",
   "execution_count": 2,
   "metadata": {},
   "outputs": [
    {
     "name": "stdout",
     "output_type": "stream",
     "text": [
      "数列の和は[[3 4]\n",
      " [5 6]\n",
      " [7 8]]\n",
      "数列の差は[[-1  0]\n",
      " [ 1  2]\n",
      " [ 3  4]]\n"
     ]
    }
   ],
   "source": [
    "import numpy as npy\n",
    "\n",
    "# 行列の定義\n",
    "a = npy.array([[1,2],[3,4],[5,6]])\n",
    "b = npy.array([[2,2],[2,2],[2,2]])\n",
    "\n",
    "# 行列の算術\n",
    "add = a + b\n",
    "sub = a - b\n",
    "\n",
    "# 結果出力\n",
    "print(\"数列の和は\" + str(add))\n",
    "print(\"数列の差は\" + str(sub))\n"
   ]
  },
  {
   "cell_type": "code",
   "execution_count": 17,
   "metadata": {},
   "outputs": [
    {
     "name": "stdout",
     "output_type": "stream",
     "text": [
      "2×2同士の積= [[ 7 10]\n",
      " [15 22]]\n",
      "2×2と2×1の積= [12 26]\n"
     ]
    }
   ],
   "source": [
    "import numpy as npy\n",
    "\n",
    "# 行列の定義\n",
    "a = npy.array([[1,2],[3,4]])\n",
    "b = npy.array([[1,2],[3,4]])\n",
    "c = npy.array([2,5])\n",
    "\n",
    "# 行列の算術\n",
    "result1 = a.dot(b)\n",
    "result2 = a.dot(c)\n",
    "\n",
    "# 結果出力\n",
    "print(\"2×2同士の積= \" + str(result1))\n",
    "print(\"2×2と2×1の積= \" + str(result2))\n"
   ]
  },
  {
   "cell_type": "markdown",
   "metadata": {},
   "source": [
    "##### import numpy as npy\n",
    "\n",
    "# 行列の定義\n",
    "a = npy.array([[1,2],[5,9]])\n",
    "b = npy.array([[1,2],[3,4]])\n",
    "c = npy.array([2,5])\n",
    "\n",
    "# 行列の算術\n",
    "result1 = npy.sqrt(a)\n",
    "result2 = npy.exp(a)\n",
    "result3 = npy.log(result2)\n",
    "result4 = npy.mean(a)\n",
    "result\n",
    "\n",
    "# 結果出力\n",
    "print(\"平方根= \" + str(result1))\n",
    "print(\"指数関数= \" + str(result2))\n",
    "print(\"result2の対数関数= \" + str(result3))\n",
    "print(\"平均= \" + str(result4))\n"
   ]
  },
  {
   "cell_type": "code",
   "execution_count": 24,
   "metadata": {},
   "outputs": [
    {
     "name": "stdout",
     "output_type": "stream",
     "text": [
      "平方根= [[1.         1.41421356]\n",
      " [2.23606798 3.        ]]\n",
      "指数関数= [[2.71828183e+00 7.38905610e+00]\n",
      " [1.48413159e+02 8.10308393e+03]]\n",
      "result2の対数関数= [[1. 2.]\n",
      " [5. 9.]]\n",
      "平均= 4.25\n",
      "標準偏差= 3.112474899497183\n"
     ]
    }
   ],
   "source": [
    "import numpy as npy\n",
    "\n",
    "# 行列の定義\n",
    "a = npy.array([[1,2],[5,9]])\n",
    "b = npy.array([[1,2],[3,4]])\n",
    "c = npy.array([2,5])\n",
    "\n",
    "# 行列の算術\n",
    "result1 = npy.sqrt(a)\n",
    "result2 = npy.exp(a)\n",
    "result3 = npy.log(result2)\n",
    "result4 = npy.mean(a)\n",
    "result5 = npy.std(a)\n",
    "\n",
    "# 結果出力\n",
    "print(\"平方根= \" + str(result1))\n",
    "print(\"指数関数= \" + str(result2))\n",
    "print(\"result2の対数関数= \" + str(result3))\n",
    "print(\"平均= \" + str(result4))\n",
    "print(\"標準偏差= \" + str(result5))"
   ]
  },
  {
   "cell_type": "code",
   "execution_count": null,
   "metadata": {},
   "outputs": [],
   "source": []
  }
 ],
 "metadata": {
  "kernelspec": {
   "display_name": "Python 3",
   "language": "python",
   "name": "python3"
  },
  "language_info": {
   "codemirror_mode": {
    "name": "ipython",
    "version": 3
   },
   "file_extension": ".py",
   "mimetype": "text/x-python",
   "name": "python",
   "nbconvert_exporter": "python",
   "pygments_lexer": "ipython3",
   "version": "3.7.4"
  }
 },
 "nbformat": 4,
 "nbformat_minor": 2
}
