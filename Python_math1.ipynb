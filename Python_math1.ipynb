{
 "cells": [
  {
   "cell_type": "code",
   "execution_count": 6,
   "metadata": {},
   "outputs": [
    {
     "name": "stdout",
     "output_type": "stream",
     "text": [
      "★行ベクトル\n",
      "[1 2]\n",
      "★列ベクトル\n",
      "[[2]\n",
      " [4]\n",
      " [6]]\n"
     ]
    }
   ],
   "source": [
    "import numpy as npy\n",
    "\n",
    "# 行ベクトルの定義\n",
    "a = npy.array([1,2])\n",
    "# 列ベクトルの定義\n",
    "b = npy.array([[2],[4],[6]])\n",
    "\n",
    "print(\"★行ベクトル\")\n",
    "print(a)\n",
    "print(\"★列ベクトル\")\n",
    "print(b)"
   ]
  },
  {
   "cell_type": "code",
   "execution_count": 8,
   "metadata": {},
   "outputs": [
    {
     "name": "stdout",
     "output_type": "stream",
     "text": [
      "★行ベクトル\n",
      "[[1 2]]\n",
      "★転置後の列ベクトル\n",
      "[[1]\n",
      " [2]]\n",
      "[[1 2]]\n"
     ]
    }
   ],
   "source": [
    "import numpy as npy\n",
    "\n",
    "# 行ベクトルの定義\n",
    "a = npy.array([[1,2]])\n",
    "\n",
    "print(\"★行ベクトル\")\n",
    "print(a)\n",
    "print(\"★転置後の列ベクトル\")\n",
    "print(a.T)\n",
    "print(a.T.T)"
   ]
  },
  {
   "cell_type": "code",
   "execution_count": 15,
   "metadata": {},
   "outputs": [
    {
     "name": "stdout",
     "output_type": "stream",
     "text": [
      "19\n"
     ]
    }
   ],
   "source": [
    "import numpy as npy\n",
    "\n",
    "# 行ベクトルの定義\n",
    "a = npy.array([1,2])\n",
    "b = npy.array([3,8])\n",
    "\n",
    "print(a.dot(b))"
   ]
  },
  {
   "cell_type": "code",
   "execution_count": 17,
   "metadata": {},
   "outputs": [
    {
     "name": "stdout",
     "output_type": "stream",
     "text": [
      "[1 2]\n",
      "2.23606797749979\n",
      "[3 4]\n",
      "5.0\n"
     ]
    }
   ],
   "source": [
    "import numpy as npy\n",
    "\n",
    "# 行ベクトルの定義\n",
    "a = npy.array([1,2])\n",
    "b = npy.array([3,4])\n",
    "\n",
    "# ベクトルの大きさを求まる\n",
    "anum = npy.linalg.norm(a)\n",
    "bnum = npy.linalg.norm(b)\n",
    "\n",
    "print(a)\n",
    "print(anum)\n",
    "print(b)\n",
    "print(bnum)"
   ]
  },
  {
   "cell_type": "code",
   "execution_count": 33,
   "metadata": {},
   "outputs": [
    {
     "name": "stdout",
     "output_type": "stream",
     "text": [
      "cos0\n",
      "1.0\n",
      "cos90\n",
      "6.123233995736766e-17\n",
      "cos180\n",
      "-1.0\n"
     ]
    }
   ],
   "source": [
    "import math\n",
    "\n",
    "# πを取得\n",
    "pi = math.pi\n",
    "# πから角度\n",
    "radian = math.degrees(pi)\n",
    "\n",
    "cos0 = math.cos(math.radians(0))\n",
    "cos90 = math.cos(math.radians(90))\n",
    "cos180 = math.cos(math.radians(180))\n",
    "\n",
    "print(\"cos0\")\n",
    "print(cos0)\n",
    "print(\"cos90\")\n",
    "print(cos90)\n",
    "print(\"cos180\")\n",
    "print(cos180)"
   ]
  },
  {
   "cell_type": "code",
   "execution_count": null,
   "metadata": {},
   "outputs": [],
   "source": []
  }
 ],
 "metadata": {
  "kernelspec": {
   "display_name": "Python 3",
   "language": "python",
   "name": "python3"
  },
  "language_info": {
   "codemirror_mode": {
    "name": "ipython",
    "version": 3
   },
   "file_extension": ".py",
   "mimetype": "text/x-python",
   "name": "python",
   "nbconvert_exporter": "python",
   "pygments_lexer": "ipython3",
   "version": "3.7.4"
  }
 },
 "nbformat": 4,
 "nbformat_minor": 2
}
