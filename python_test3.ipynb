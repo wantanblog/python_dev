{
 "cells": [
  {
   "cell_type": "code",
   "execution_count": 14,
   "metadata": {},
   "outputs": [
    {
     "name": "stdout",
     "output_type": "stream",
     "text": [
      "[0 1 2 3 4]\n",
      "[ 5  6  7  8  9 10 11 12 13 14]\n",
      "[5 6 7 8 9]\n",
      "[[1 2]\n",
      " [3 4]]\n"
     ]
    }
   ],
   "source": [
    "import numpy as npy\n",
    "\n",
    "list = npy.arange(15)\n",
    "# 数列の場合\n",
    "a = npy.array([[1,2],[3,4],[5,6]])\n",
    "\n",
    "print(list[:5])\n",
    "print(list[5:])\n",
    "print(list[5:10])\n",
    "print(a[:2])"
   ]
  },
  {
   "cell_type": "code",
   "execution_count": 16,
   "metadata": {},
   "outputs": [
    {
     "name": "stdout",
     "output_type": "stream",
     "text": [
      "[False False  True  True  True  True  True]\n"
     ]
    }
   ],
   "source": [
    "import numpy as npy\n",
    "\n",
    "list = npy.array([1,2,3,4,10,11,12])\n",
    "\n",
    "print(list > 2)"
   ]
  },
  {
   "cell_type": "code",
   "execution_count": 18,
   "metadata": {},
   "outputs": [
    {
     "name": "stdout",
     "output_type": "stream",
     "text": [
      "[ 3  4 10 11 12]\n"
     ]
    }
   ],
   "source": [
    "import numpy as npy\n",
    "\n",
    "list = npy.array([1,2,3,4,10,11,12])\n",
    "\n",
    "turelist = list[list > 2]\n",
    "\n",
    "print(turelist)"
   ]
  },
  {
   "cell_type": "code",
   "execution_count": 32,
   "metadata": {},
   "outputs": [
    {
     "name": "stdout",
     "output_type": "stream",
     "text": [
      "[False False  True  True  True  True  True]\n",
      "resultlist= [ 3  4 10 11 12]\n",
      "[]\n",
      "[[ 1  2  3  4 10 11 12]]\n"
     ]
    }
   ],
   "source": [
    "import numpy as npy\n",
    "\n",
    "alist = npy.array([1,2,3,4,10,11,12])\n",
    "boollist = npy.array([False,False,True,True,True,True,True])\n",
    "\n",
    "reultlist = alist[boollist]\n",
    "falselist = alist[False]\n",
    "truelist = alist[True]\n",
    "\n",
    "print(boollist)\n",
    "print(\"resultlist= \" + str(reultlist))\n",
    "print(falselist)\n",
    "print(truelist)\n"
   ]
  },
  {
   "cell_type": "code",
   "execution_count": 52,
   "metadata": {},
   "outputs": [
    {
     "name": "stdout",
     "output_type": "stream",
     "text": [
      "[ 1  2 10 10 10 10 10]\n",
      "[ 1  2  3  4 10 11 12]\n",
      "[ 1  2 13 14 20 21 22]\n"
     ]
    }
   ],
   "source": [
    "import numpy as npy\n",
    "\n",
    "alist = npy.array([1,2,3,4,10,11,12])\n",
    "blist = npy.array([1,2,3,4,10,11,12])\n",
    "clist = npy.array([1,2,3,4,10,11,12])\n",
    "\n",
    "alist[alist > 2] = 10\n",
    "blist[blist > 2] + 10\n",
    "clist[clist > 2] = clist[clist > 2] + 10\n",
    "\n",
    "print(alist)\n",
    "print(blist)\n",
    "print(clist)"
   ]
  },
  {
   "cell_type": "code",
   "execution_count": 55,
   "metadata": {},
   "outputs": [
    {
     "name": "stdout",
     "output_type": "stream",
     "text": [
      "デフォルト\n",
      "デフォルト関数の処理\n"
     ]
    }
   ],
   "source": [
    "message = \"デフォルト\"\n",
    "def func():\n",
    "    global message\n",
    "    message = message + \"関数の処理\"\n",
    "    print(message)\n",
    "\n",
    "print(message)\n",
    "func()\n"
   ]
  },
  {
   "cell_type": "code",
   "execution_count": 64,
   "metadata": {},
   "outputs": [
    {
     "name": "stdout",
     "output_type": "stream",
     "text": [
      "デフォルト\n",
      "message = デフォルト関数の処理\n",
      "関数内のリスト = [0 1 2 3 4 5 6 7 8 9]\n",
      "[0 1 2 3 4]\n"
     ]
    }
   ],
   "source": [
    "import numpy as npy\n",
    "message = \"デフォルト\"\n",
    "\n",
    "def func(num):\n",
    "    global message\n",
    "    message = message + \"関数の処理\"\n",
    "    numlist = npy.arange(num)\n",
    "    print(\"message = \" + message)\n",
    "    print(\"関数内のリスト = \" + str(numlist))\n",
    "    return numlist\n",
    "    \n",
    "\n",
    "print(message)\n",
    "resultlist = func(10)\n",
    "print(resultlist[:5])"
   ]
  },
  {
   "cell_type": "code",
   "execution_count": 68,
   "metadata": {},
   "outputs": [
    {
     "name": "stdout",
     "output_type": "stream",
     "text": [
      "message = デフォルト関数の処理\n",
      "関数内のリスト = [0 1 2 3 4 5 6 7 8 9]\n",
      "('デフォルト関数の処理', array([0, 1, 2, 3, 4, 5, 6, 7, 8, 9]))\n",
      "message = デフォルト関数の処理関数の処理\n",
      "関数内のリスト = [0 1 2 3 4]\n",
      "デフォルト関数の処理関数の処理\n",
      "[0 1 2 3 4]\n"
     ]
    }
   ],
   "source": [
    "import numpy as npy\n",
    "message = \"デフォルト\"\n",
    "\n",
    "def func(num):\n",
    "    global message\n",
    "    message = message + \"関数の処理\"\n",
    "    numlist = npy.arange(num)\n",
    "    print(\"message = \" + message)\n",
    "    print(\"関数内のリスト = \" + str(numlist))\n",
    "    return message, numlist\n",
    "    \n",
    "\n",
    "resultlist = func(10)\n",
    "print(resultlist)\n",
    "\n",
    "resultmessage, resultlist2 = func(5)\n",
    "print(resultmessage)\n",
    "print(resultlist2)\n"
   ]
  },
  {
   "cell_type": "code",
   "execution_count": 80,
   "metadata": {},
   "outputs": [
    {
     "name": "stdout",
     "output_type": "stream",
     "text": [
      "ファイル保存用メッセージ\n"
     ]
    }
   ],
   "source": [
    "import numpy as npy\n",
    "\n",
    "message = \"ファイル保存用メッセージ\"\n",
    "# メッセージをファイルに保存する\n",
    "npy.save('testfile.npy', message)\n",
    "# ファイルの内容を読み取る\n",
    "result = npy.load('testfile.npy')\n",
    "\n",
    "print(result)"
   ]
  },
  {
   "cell_type": "code",
   "execution_count": 74,
   "metadata": {},
   "outputs": [
    {
     "data": {
      "text/plain": [
       "1573571224.9515214"
      ]
     },
     "execution_count": 74,
     "metadata": {},
     "output_type": "execute_result"
    }
   ],
   "source": [
    "import time\n",
    "time.time()"
   ]
  },
  {
   "cell_type": "code",
   "execution_count": null,
   "metadata": {},
   "outputs": [],
   "source": []
  }
 ],
 "metadata": {
  "kernelspec": {
   "display_name": "Python 3",
   "language": "python",
   "name": "python3"
  },
  "language_info": {
   "codemirror_mode": {
    "name": "ipython",
    "version": 3
   },
   "file_extension": ".py",
   "mimetype": "text/x-python",
   "name": "python",
   "nbconvert_exporter": "python",
   "pygments_lexer": "ipython3",
   "version": "3.7.4"
  }
 },
 "nbformat": 4,
 "nbformat_minor": 2
}
